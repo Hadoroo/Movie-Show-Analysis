{
 "cells": [
  {
   "cell_type": "code",
   "execution_count": 35,
   "id": "4310d501",
   "metadata": {},
   "outputs": [],
   "source": [
    "import pandas as pd\n",
    "from etl import ETL"
   ]
  },
  {
   "cell_type": "code",
   "execution_count": 36,
   "id": "5605dcf7",
   "metadata": {},
   "outputs": [
    {
     "name": "stdout",
     "output_type": "stream",
     "text": [
      "None\n"
     ]
    }
   ],
   "source": [
    "etl = ETL()\n",
    "data_json = etl.extract()\n",
    "print(data_json)"
   ]
  },
  {
   "cell_type": "code",
   "execution_count": 37,
   "id": "490db5d1",
   "metadata": {},
   "outputs": [],
   "source": [
    "data = pd.DataFrame(data_json)"
   ]
  },
  {
   "cell_type": "code",
   "execution_count": 38,
   "id": "30230cfc",
   "metadata": {},
   "outputs": [
    {
     "name": "stdout",
     "output_type": "stream",
     "text": [
      "Empty DataFrame\n",
      "Columns: []\n",
      "Index: []\n"
     ]
    }
   ],
   "source": [
    "print(data.head())"
   ]
  },
  {
   "cell_type": "code",
   "execution_count": 39,
   "id": "83caddf8",
   "metadata": {},
   "outputs": [
    {
     "data": {
      "text/html": [
       "<div>\n",
       "<style scoped>\n",
       "    .dataframe tbody tr th:only-of-type {\n",
       "        vertical-align: middle;\n",
       "    }\n",
       "\n",
       "    .dataframe tbody tr th {\n",
       "        vertical-align: top;\n",
       "    }\n",
       "\n",
       "    .dataframe thead th {\n",
       "        text-align: right;\n",
       "    }\n",
       "</style>\n",
       "<table border=\"1\" class=\"dataframe\">\n",
       "  <thead>\n",
       "    <tr style=\"text-align: right;\">\n",
       "      <th></th>\n",
       "    </tr>\n",
       "  </thead>\n",
       "  <tbody>\n",
       "  </tbody>\n",
       "</table>\n",
       "</div>"
      ],
      "text/plain": [
       "Empty DataFrame\n",
       "Columns: []\n",
       "Index: []"
      ]
     },
     "execution_count": 39,
     "metadata": {},
     "output_type": "execute_result"
    }
   ],
   "source": [
    "data.head()"
   ]
  },
  {
   "cell_type": "code",
   "execution_count": 8,
   "id": "1c819fa1",
   "metadata": {},
   "outputs": [
    {
     "name": "stdout",
     "output_type": "stream",
     "text": [
      "Genre mapping fetched successfully\n",
      "Done Fetching Genre\n",
      "Saving genre_map.json to: d:\\Kuliah\\Semester 6\\Capstone\\Movie-Show-Analysis\\genre_map.json\n",
      "{28: 'Action', 12: 'Adventure', 16: 'Animation', 35: 'Comedy', 80: 'Crime', 99: 'Documentary', 18: 'Drama', 10751: 'Family', 14: 'Fantasy', 36: 'History', 27: 'Horror', 10402: 'Music', 9648: 'Mystery', 10749: 'Romance', 878: 'Science Fiction', 10770: 'TV Movie', 53: 'Thriller', 10752: 'War', 37: 'Western'}\n"
     ]
    }
   ],
   "source": [
    "from extract import ExtractData\n",
    "from dotenv import load_dotenv\n",
    "import os\n",
    "import json\n",
    "\n",
    "extract = ExtractData()\n",
    "load_dotenv()\n",
    "    \n",
    "AUTH_KEY = os.getenv(\"TMDB_AUTH\")\n",
    "genre_map = extract.fetch_tmdb_genre(AUTH_KEY)\n",
    "with open(\"genre_map.json\", \"w\", encoding=\"utf-8\") as f:\n",
    "                json.dump(genre_map, f, ensure_ascii=False, indent=2)\n",
    "print(\"Saving genre_map.json to:\", os.path.abspath(\"genre_map.json\"))\n",
    "print(genre_map)"
   ]
  },
  {
   "cell_type": "code",
   "execution_count": 1,
   "id": "6e90e896",
   "metadata": {},
   "outputs": [
    {
     "name": "stderr",
     "output_type": "stream",
     "text": [
      "INFO:elt:Successfully connected to MongoDB\n",
      "INFO:elt:MongoDB connection closed\n"
     ]
    },
    {
     "name": "stdout",
     "output_type": "stream",
     "text": [
      "Prepared 96 enriched movies.\n",
      "A Minecraft Movie → Family, Comedy, Adventure, Fantasy\n",
      "Final Destination Bloodlines → Horror, Mystery\n",
      "A Working Man → Action, Crime, Thriller\n",
      "Warfare → War, Action\n",
      "Snow White → Family, Fantasy\n",
      "The Great Escape → Action, Thriller\n",
      "Tin Soldier → Action, Thriller\n",
      "Bambi: A Life in the Woods → Adventure, Family\n",
      "Last Bullet → Action, Crime, Thriller, Drama\n",
      "Mission: Impossible - The Final Reckoning → Action, Adventure, Thriller\n",
      "Conjuring the Cult → Horror, Drama\n",
      "Brave Citizen → Action, Drama, Comedy\n",
      "Thunderbolts* → Action, Science Fiction, Adventure\n",
      "The Haunting at Saint Joseph's → Horror, Thriller\n",
      "Exterritorial → Thriller, Action\n",
      "In the Lost Lands → Action, Fantasy, Adventure\n",
      "Rust → Western\n",
      "From the Shadows → Thriller, Science Fiction, Horror\n",
      "Captain America: Brave New World → Action, Thriller, Science Fiction\n",
      "Sinners → Horror, Thriller\n",
      "Havoc → Action, Crime, Thriller\n",
      "¡Qué Huevos, Sofía! → Comedy\n",
      "Laila → Comedy, Romance\n",
      "Stream → Horror\n",
      "Moana 2 → Animation, Adventure, Family, Comedy\n",
      "Karate Kid: Legends → Action, Adventure, Drama\n",
      "My Massive Cock → Documentary\n",
      "Death of a Unicorn → Horror, Fantasy, Comedy\n",
      "Lilo & Stitch → Family, Comedy, Science Fiction\n",
      "The Monkey → Horror, Comedy\n",
      "Final Destination → Horror\n",
      "Saint Catherine → Horror\n",
      "Mufasa: The Lion King → Adventure, Family, Animation\n",
      "Bad Influence → Thriller, Drama, Romance\n",
      "Final Destination 5 → Horror, Mystery\n",
      "Sonic the Hedgehog 3 → Action, Science Fiction, Comedy, Family\n",
      "Desert Dawn → Action, Crime, Mystery, Thriller\n",
      "Van Gogh by Vincent → Documentary\n",
      "Novocaine → Action, Comedy, Thriller\n",
      "G20 → Action, Mystery, Drama\n",
      "Day of Reckoning → Western, Action\n",
      "Vini Jr. → Documentary\n",
      "Drop → Mystery, Thriller\n",
      "The Siege → Action, Thriller\n",
      "The Gorge → Romance, Science Fiction, Thriller\n",
      "Ask Me What You Want → Romance, Drama\n",
      "My Fault → Romance, Drama\n",
      "Flight Risk → Action, Thriller\n",
      "The Wild Robot → Animation, Science Fiction, Family\n",
      "xXx → Action, Adventure, Thriller, Crime\n",
      "Final Destination 2 → Horror, Mystery\n",
      "Summer of 69 → Comedy, Drama\n",
      "Venom: The Last Dance → Action, Science Fiction, Adventure\n",
      "Mission: Impossible - Dead Reckoning Part One → Action, Adventure, Thriller\n",
      "Devara: Part 1 → Action, Drama\n",
      "Locked → Thriller\n",
      "The Accountant² → Crime, Thriller, Action\n",
      "Marked Men: Rule + Shaw → Romance, Drama\n",
      "Final Destination 3 → Horror, Mystery\n",
      "Another Simple Favor → Thriller, Comedy, Crime\n",
      "The Ugly Stepsister → Horror, Drama\n",
      "The Woman in the Yard → Horror, Mystery\n",
      "The Substance → Horror, Science Fiction\n",
      "Kraven the Hunter → Action, Adventure, Thriller\n",
      "Mickey 17 → Science Fiction, Comedy, Adventure\n",
      "Stepmom's Desire → Drama, Romance\n",
      "Nonnas → Comedy\n",
      "Lilo & Stitch → Animation, Family, Comedy\n",
      "Gladiator II → Action, Adventure, Drama\n",
      "Deadpool & Wolverine → Action, Comedy, Science Fiction\n",
      "Inside Out 2 → Animation, Adventure, Comedy, Family\n",
      "Despicable Me 4 → Animation, Family, Comedy, Science Fiction\n",
      "Mission: Impossible → Adventure, Action, Thriller\n",
      "Conclave → Drama, Thriller, Mystery\n",
      "The Glenarma Tapes → Horror\n",
      "Amaran → Action, Drama, Adventure, War\n",
      "Your Fault → Romance, Drama\n",
      "Gunslingers → Western, Action\n",
      "The Goldsmith's Secret → Drama, Romance\n",
      "The Godfather → Drama, Crime\n",
      "Interstellar → Adventure, Drama, Science Fiction\n",
      "Flow → Animation, Fantasy, Adventure\n",
      "Memoir of a Snail → Animation, Drama, Comedy\n",
      "Counterattack → Action, Adventure, Thriller\n",
      "The Conjuring → Horror, Thriller\n",
      "Anora → Drama, Comedy, Romance\n",
      "The Accountant → Crime, Thriller, Drama\n",
      "Kung Fu Panda 4 → Animation, Family, Action, Comedy, Adventure, Fantasy\n",
      "Demon City → Action, Crime, Fantasy, Thriller\n",
      "Ligaw → Drama, Romance\n",
      "Oppenheimer → Drama, History\n",
      "Believers → Drama\n",
      "My Fault: London → Romance, Drama\n",
      "Fast X → Action, Crime, Thriller, Adventure, Mystery\n",
      "Avengers: Infinity War → Adventure, Action, Science Fiction\n",
      "Barbie → Comedy, Adventure\n"
     ]
    }
   ],
   "source": [
    "from elt import ELT\n",
    "\n",
    "elt = ELT()\n",
    "movies = elt.enrich_genreMovie()\n",
    "for movie in movies:\n",
    "    title = movie.get(\"title\", \"Untitled\")\n",
    "    genres = movie.get(\"genres\", [])\n",
    "    print(f\"{title} → {', '.join(genres)}\")\n"
   ]
  }
 ],
 "metadata": {
  "kernelspec": {
   "display_name": "prj_rdv",
   "language": "python",
   "name": "python3"
  },
  "language_info": {
   "codemirror_mode": {
    "name": "ipython",
    "version": 3
   },
   "file_extension": ".py",
   "mimetype": "text/x-python",
   "name": "python",
   "nbconvert_exporter": "python",
   "pygments_lexer": "ipython3",
   "version": "3.10.16"
  }
 },
 "nbformat": 4,
 "nbformat_minor": 5
}
